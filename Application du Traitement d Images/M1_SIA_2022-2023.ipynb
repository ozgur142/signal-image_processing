{
 "cells": [
  {
   "cell_type": "markdown",
   "metadata": {},
   "source": [
    "**M1-SIA** (2022-2023)\n",
    "\n",
    "*Une introduction au langage Python*\n",
    "\n",
    "À usage **scientifique** i.e. augmenté des bibliothèques **numpy** et **matplotlib**"
   ]
  },
  {
   "cell_type": "markdown",
   "metadata": {},
   "source": [
    "**(1) Utiliser Python pour calculer en ligne**"
   ]
  },
  {
   "cell_type": "markdown",
   "metadata": {},
   "source": [
    "Quelques opérations sur les entiers (integer)"
   ]
  },
  {
   "cell_type": "code",
   "execution_count": 1,
   "metadata": {
    "scrolled": true
   },
   "outputs": [
    {
     "name": "stdout",
     "output_type": "stream",
     "text": [
      "42\n",
      "44\n",
      "21\n",
      "0\n",
      "2\n"
     ]
    }
   ],
   "source": [
    "a=42\n",
    "print(a)\n",
    "print(a+2)\n",
    "print(a//2)\n",
    "print(a%2)\n",
    "print(a%5)"
   ]
  },
  {
   "cell_type": "markdown",
   "metadata": {},
   "source": [
    "Quelques opérations sur les réels (**float**)"
   ]
  },
  {
   "cell_type": "code",
   "execution_count": 2,
   "metadata": {},
   "outputs": [
    {
     "name": "stdout",
     "output_type": "stream",
     "text": [
      "8.4\n"
     ]
    }
   ],
   "source": [
    "a=42\n",
    "print(a/5)"
   ]
  },
  {
   "cell_type": "code",
   "execution_count": 3,
   "metadata": {},
   "outputs": [
    {
     "ename": "NameError",
     "evalue": "name 'log' is not defined",
     "output_type": "error",
     "traceback": [
      "\u001b[0;31m---------------------------------------------------------------------------\u001b[0m",
      "\u001b[0;31mNameError\u001b[0m                                 Traceback (most recent call last)",
      "Input \u001b[0;32mIn [3]\u001b[0m, in \u001b[0;36m<cell line: 1>\u001b[0;34m()\u001b[0m\n\u001b[0;32m----> 1\u001b[0m \u001b[38;5;28mprint\u001b[39m(\u001b[43mlog\u001b[49m(\u001b[38;5;241m1\u001b[39m))\n",
      "\u001b[0;31mNameError\u001b[0m: name 'log' is not defined"
     ]
    }
   ],
   "source": [
    "print(log(1))"
   ]
  },
  {
   "cell_type": "markdown",
   "metadata": {},
   "source": [
    "Python n'est **pas** conçu à la base pour le calcul scientifique. Il faut pour cela y **ajouter** certains modules additionels comme p.ex. \"math\""
   ]
  },
  {
   "cell_type": "code",
   "execution_count": null,
   "metadata": {},
   "outputs": [],
   "source": [
    "import math\n",
    "print(math.log(1))"
   ]
  },
  {
   "cell_type": "markdown",
   "metadata": {},
   "source": [
    "**(2) Calcul scientifique avec numpy**\n",
    "\n",
    "Par la suite, on préfèrera **numpy** qui offre beaucoup plus de possibilités (cf. https://numpy.org/)"
   ]
  },
  {
   "cell_type": "code",
   "execution_count": 4,
   "metadata": {},
   "outputs": [
    {
     "name": "stdout",
     "output_type": "stream",
     "text": [
      "0.0\n",
      "1.0\n",
      "0.7071067811865475\n"
     ]
    }
   ],
   "source": [
    "import numpy as np\n",
    "print(np.log(1.))\n",
    "print(np.exp(0.))\n",
    "print(np.sin(np.pi/4.))"
   ]
  },
  {
   "cell_type": "markdown",
   "metadata": {},
   "source": [
    "Quelques opérations avec des nombres **complexes**"
   ]
  },
  {
   "cell_type": "code",
   "execution_count": 5,
   "metadata": {},
   "outputs": [
    {
     "name": "stdout",
     "output_type": "stream",
     "text": [
      "1.0 2.0\n",
      "(1-2j)\n",
      "2.23606797749979 1.1071487177940904\n",
      "(-3+4j)\n"
     ]
    }
   ],
   "source": [
    "import numpy as np\n",
    "z=1+2j\n",
    "print(np.real(z),np.imag(z))\n",
    "print(np.conjugate(z))\n",
    "print(np.absolute(z),np.angle(z))\n",
    "print(z*z)"
   ]
  },
  {
   "cell_type": "markdown",
   "metadata": {},
   "source": [
    "C'est aussi grâce à numpy que l'on va pouvoir utiliser des **array** (vecteurs, matrices etc.)"
   ]
  },
  {
   "cell_type": "code",
   "execution_count": 6,
   "metadata": {},
   "outputs": [
    {
     "name": "stdout",
     "output_type": "stream",
     "text": [
      "[0 1 2 3 4 5 6 7 8 9]\n",
      "0\n",
      "9\n",
      "[2 3 4]\n",
      "Longueur du vecteur : 10 ; ou encore  (10,)\n"
     ]
    }
   ],
   "source": [
    "import numpy as np\n",
    "v=np.arange(10)\n",
    "print(v)\n",
    "print(v[0])\n",
    "print(v[9])\n",
    "print(v[2:5])\n",
    "print('Longueur du vecteur :',len(v), '; ou encore ', v.shape)"
   ]
  },
  {
   "cell_type": "markdown",
   "metadata": {},
   "source": [
    "Attention : le premier élément sera 0 et **indexé 0** également, et le dernier 9 "
   ]
  },
  {
   "cell_type": "markdown",
   "metadata": {},
   "source": [
    "Dans un premier temps, on se contentera d'utiliser des \"matrices\" (**array** de numpy de dimension > 1) et des \"vecteurs\" (array de dimension 1) pour transposer en Python l'**algèbre** que vous connaissez..."
   ]
  },
  {
   "cell_type": "code",
   "execution_count": 7,
   "metadata": {},
   "outputs": [
    {
     "name": "stdout",
     "output_type": "stream",
     "text": [
      "[[1. 0. 0. 0.]\n",
      " [0. 1. 0. 0.]\n",
      " [0. 0. 1. 0.]\n",
      " [0. 0. 0. 1.]]\n",
      "[[0 1 2]\n",
      " [3 4 5]\n",
      " [6 7 8]]\n",
      "(3, 3)\n",
      "[ 5 14 23]\n",
      "5\n",
      "[[0 0 0]\n",
      " [0 1 2]\n",
      " [0 2 4]]\n"
     ]
    }
   ],
   "source": [
    "import numpy as np\n",
    "print(np.eye(4)) # Identité de rang p=4 ici\n",
    "x=np.arange(3)\n",
    "M=np.arange(9)\n",
    "M=np.reshape(M,(3,3))\n",
    "print(M)\n",
    "print(M.shape)\n",
    "print(np.dot(M,x))\n",
    "print(np.dot(np.transpose(x),x))\n",
    "print(np.outer(x, np.transpose(x))) # attention avec 'dot'..."
   ]
  },
  {
   "cell_type": "markdown",
   "metadata": {},
   "source": [
    "Numpy (ainsi que d'autres modules) sont organisés en **sous-ensembles** (ci-après **linalg** ; voir https://numpy.org/doc/stable/reference/routines.linalg.html) rassemblant des fonctionnalités spécifiques (ici, de nombreux outils d'**algèbre linéaire** courante)."
   ]
  },
  {
   "cell_type": "code",
   "execution_count": 8,
   "metadata": {},
   "outputs": [
    {
     "name": "stdout",
     "output_type": "stream",
     "text": [
      "[[ 0.9601118  -0.04217129 -1.72352764]\n",
      " [-0.08470155  0.02602373  0.26803405]\n",
      " [ 0.64428765 -0.07595346 -2.27639899]]\n",
      " Inverser une matrice... et vérifier le produit avec la matrice d'origine\n",
      "[[ 1.00000000e+00  1.43395633e-17  1.48861248e-17]\n",
      " [-1.89328411e-15  1.00000000e+00  7.19611775e-15]\n",
      " [-4.21364692e-17 -2.58915593e-18  1.00000000e+00]]\n"
     ]
    }
   ],
   "source": [
    "import numpy as np\n",
    "from numpy.linalg import inv  # pour disposer de l'inversion de matrice de linalg\n",
    "M=np.random.randn(3,3)\n",
    "print(M)\n",
    "print(\" Inverser une matrice... et vérifier le produit avec la matrice d'origine\")\n",
    "print(np.dot(inv(M),M))"
   ]
  },
  {
   "cell_type": "markdown",
   "metadata": {},
   "source": [
    "**(3) Boucles**\n",
    "\n",
    "Commençons par les boucles **while**... Et surtout, comme pour les **tests** (if etc.) attention à bien **respecter la tabulation** indispensable pour **délimiter** les début/fin de bloc !"
   ]
  },
  {
   "cell_type": "code",
   "execution_count": 9,
   "metadata": {},
   "outputs": [
    {
     "name": "stdout",
     "output_type": "stream",
     "text": [
      "0\n",
      "1\n",
      "2\n",
      "3\n",
      "4\n",
      "5\n",
      "6\n",
      "7\n",
      "8\n",
      "9\n"
     ]
    }
   ],
   "source": [
    "k=0\n",
    "while (k<10):\n",
    "    print(k)\n",
    "    k=k+1  # on peut aussi écrire k+=1"
   ]
  },
  {
   "cell_type": "markdown",
   "metadata": {},
   "source": [
    "Et des boucles **for** éventuellement aussi sur des *objets itérables* (spécifique Python)."
   ]
  },
  {
   "cell_type": "code",
   "execution_count": 10,
   "metadata": {},
   "outputs": [
    {
     "name": "stdout",
     "output_type": "stream",
     "text": [
      "Longueur de la chaîne :  5\n",
      "1\n",
      "2\n",
      "3\n",
      "4\n",
      "5\n"
     ]
    }
   ],
   "source": [
    "n=12345\n",
    "s=str(n)\n",
    "print('Longueur de la chaîne : ',len(s))\n",
    "for i in np.arange(len(s)):\n",
    "    print(s[i])"
   ]
  },
  {
   "cell_type": "code",
   "execution_count": 11,
   "metadata": {},
   "outputs": [
    {
     "name": "stdout",
     "output_type": "stream",
     "text": [
      "Shannon"
     ]
    }
   ],
   "source": [
    "c='Shannon'\n",
    "for k in c:   # écriture particulière à Python (sur objet itérable)\n",
    "    print(k, end=\"\")"
   ]
  },
  {
   "cell_type": "code",
   "execution_count": 12,
   "metadata": {},
   "outputs": [
    {
     "name": "stdout",
     "output_type": "stream",
     "text": [
      "54321"
     ]
    }
   ],
   "source": [
    "p=\"12345\"\n",
    "for k in p[::-1]:   \n",
    "    print(k, end=\"\")"
   ]
  },
  {
   "cell_type": "markdown",
   "metadata": {},
   "source": [
    "**(4) Tests**\n",
    "\n",
    "Dans l'exemple qui suit, affichage des seuls # pairs de 0 à 10. "
   ]
  },
  {
   "cell_type": "code",
   "execution_count": 13,
   "metadata": {},
   "outputs": [
    {
     "name": "stdout",
     "output_type": "stream",
     "text": [
      "0\n",
      "2\n",
      "4\n",
      "6\n",
      "8\n"
     ]
    }
   ],
   "source": [
    "k=0\n",
    "while (k<10):\n",
    "    if (k%2 == 0):\n",
    "        print(k)\n",
    "    k=k+1"
   ]
  },
  {
   "cell_type": "markdown",
   "metadata": {},
   "source": [
    "**(5) Listes**"
   ]
  },
  {
   "cell_type": "code",
   "execution_count": 15,
   "metadata": {},
   "outputs": [
    {
     "name": "stdout",
     "output_type": "stream",
     "text": [
      "Une liste :  [1, 2, 3, 4, 5, 6, 7, 8, 9, 10] de longueur :  10\n",
      "Un extrait :  [3, 4]\n",
      "Classement : [1, 4, 5, 9, 12]\n"
     ]
    }
   ],
   "source": [
    "L=[] # création d'une liste vide\n",
    "k=0\n",
    "while (k<10):\n",
    "    L.append(k+1)\n",
    "    k+=1\n",
    "print('Une liste : ',L, 'de longueur : ',len(L))\n",
    "print('Un extrait : ', L[2:4])\n",
    "#\n",
    "lst=[4, 1, 5, 9, 12]\n",
    "lst.sort() # exemple d'utilisation d'une \"méthode\" (de tri en l'occurence)\n",
    "print('Classement :', lst)"
   ]
  },
  {
   "cell_type": "markdown",
   "metadata": {},
   "source": [
    "Il existe de nombreuses **méthodes** associées aux listes, un outil sans doute précieux offert par Python."
   ]
  },
  {
   "cell_type": "markdown",
   "metadata": {},
   "source": [
    "**(6) Fonctions**"
   ]
  },
  {
   "cell_type": "code",
   "execution_count": 16,
   "metadata": {},
   "outputs": [
    {
     "name": "stdout",
     "output_type": "stream",
     "text": [
      "2 9\n"
     ]
    }
   ],
   "source": [
    "def echange(a,b):\n",
    "    c=a\n",
    "    a=b\n",
    "    b=c\n",
    "    print(a,b)\n",
    "# fin de fonction\n",
    "\n",
    "echange(9,2)"
   ]
  },
  {
   "cell_type": "markdown",
   "metadata": {},
   "source": [
    "Une fonction avec une commande **return** pour récupérer les éléments voulus (éventuellement multiples, voire plus complexes que des nombres) après appel"
   ]
  },
  {
   "cell_type": "code",
   "execution_count": 17,
   "metadata": {},
   "outputs": [
    {
     "name": "stdout",
     "output_type": "stream",
     "text": [
      "(2, 9)\n",
      "2 9\n"
     ]
    }
   ],
   "source": [
    "def echange(a,b):\n",
    "    c=a\n",
    "    a=b\n",
    "    b=c\n",
    "    return a,b\n",
    "# fin de fonction\n",
    "\n",
    "print(echange(9,2))\n",
    "\n",
    "# ou encore...\n",
    "x, y = echange(9, 2)\n",
    "print(x,y)"
   ]
  },
  {
   "cell_type": "code",
   "execution_count": 18,
   "metadata": {},
   "outputs": [
    {
     "name": "stdout",
     "output_type": "stream",
     "text": [
      "Déterminant de :\n",
      "[[1. 0. 0.]\n",
      " [0. 1. 0.]\n",
      " [0. 0. 1.]]  =  1.0\n"
     ]
    }
   ],
   "source": [
    "def Determinant(A):\n",
    "    from numpy.linalg import det\n",
    "    return det(A)\n",
    "\n",
    "import numpy as np\n",
    "A=np.identity(3)\n",
    "print('Déterminant de :')\n",
    "print(A,' = ',Determinant(A))"
   ]
  },
  {
   "cell_type": "markdown",
   "metadata": {},
   "source": [
    "**(7) Graphiques**\n",
    "\n",
    "Cette partie repose sur l'utilisation de https://matplotlib.org/ à invoquer avec : import matplotlib.pyplot as plt\n",
    "\n",
    "Pour incorporer les graphiques dans le notebook, il faut s'assurer d'**installer matplotlib-inline** ; voir aussi la commande juste après (essayer **inline** ou encore **notebook** pour de l'interactivité)"
   ]
  },
  {
   "cell_type": "code",
   "execution_count": 19,
   "metadata": {},
   "outputs": [],
   "source": [
    "%matplotlib inline\n",
    "# avec notebook, graphique interactif : zoom, sauvegarde png etc.\n",
    "# avec inline, graphique statique dans le notebook"
   ]
  },
  {
   "cell_type": "code",
   "execution_count": 20,
   "metadata": {},
   "outputs": [
    {
     "data": {
      "image/png": "[encoded data removed]",
      "text/plain": [
       "<Figure size 640x480 with 1 Axes>"
      ]
     },
     "metadata": {},
     "output_type": "display_data"
    }
   ],
   "source": [
    "import numpy as np\n",
    "import matplotlib.pyplot as plt\n",
    "x=np.arange(0., 2.*np.pi, np.pi/20.)\n",
    "plt.plot(x, np.sin(x), 'ro')\n",
    "plt.xlabel('angle [radians]', fontsize=12)\n",
    "plt.ylabel('sin(angle)', fontsize=12)\n",
    "plt.grid(color='k', linestyle='--', linewidth=0.5)\n",
    "plt.show()"
   ]
  },
  {
   "cell_type": "markdown",
   "metadata": {},
   "source": [
    "***\n",
    "\n",
    "Ceci est à la fois un **exemple** de cellule *markdown* \"scientifique\" i.e., <span style='background:yellow'>incorporant des commandes en *LaTeX*</span> et... un petit **exercice** à faire...\n",
    "\n",
    "Faites une représentation graphique *aussi soignée que possible* de la fonction V(r) pour $r \\in [0, 5]$ (*cm*) où V le volume d'une sphère (rappel : $V_{sphère} = \\frac{4}{3} \\pi r^3$)\n",
    "    \n",
    "***"
   ]
  },
  {
   "cell_type": "code",
   "execution_count": 21,
   "metadata": {},
   "outputs": [
    {
     "data": {
      "image/png": "[encoded data removed]",
      "text/plain": [
       "<Figure size 400x400 with 1 Axes>"
      ]
     },
     "metadata": {},
     "output_type": "display_data"
    }
   ],
   "source": [
    "import matplotlib.pyplot as plt\n",
    "import numpy as np\n",
    "\n",
    "dt=np.pi/30.\n",
    "t=np.arange(0., 2*np.pi + dt, dt)\n",
    "\n",
    "plt.figure(figsize = (4, 4))\n",
    "\n",
    "plt.plot(np.cos(t), np.cos(t + np.pi/2), 'bo-')\n",
    "plt.xlabel('x(t)', fontsize=12)\n",
    "plt.ylabel('y(t)', fontsize=12)\n",
    "\n",
    "plt.show()"
   ]
  },
  {
   "cell_type": "markdown",
   "metadata": {},
   "source": [
    "Un dernier exemple avec l'utilisation de la **FFT** sur un signal *x(t)*..."
   ]
  },
  {
   "cell_type": "code",
   "execution_count": 22,
   "metadata": {
    "scrolled": true
   },
   "outputs": [
    {
     "name": "stderr",
     "output_type": "stream",
     "text": [
      "/home/fpaletou/.local/lib/python3.8/site-packages/numpy/core/_asarray.py:83: ComplexWarning: Casting complex values to real discards the imaginary part\n",
      "  return array(a, dtype, copy=False, order=order)\n"
     ]
    },
    {
     "data": {
      "image/png": "[encoded data removed]",
      "text/plain": [
       "<Figure size 600x300 with 2 Axes>"
      ]
     },
     "metadata": {},
     "output_type": "display_data"
    }
   ],
   "source": [
    "import matplotlib.pyplot as plt\n",
    "import numpy as np\n",
    "# fourier material now...\n",
    "from numpy.fft import fft, ifft\n",
    "\n",
    "# sampling rate\n",
    "sr = 2000\n",
    "# sampling interval\n",
    "ts = 1.0/sr\n",
    "t = np.arange(0,1,ts)\n",
    "\n",
    "freq = 3.\n",
    "x = 3*np.sin(2*np.pi*freq*t) + np.sin(2*np.pi*(freq+2)*t)\n",
    "\n",
    "X = fft(x)\n",
    "N = len(X)\n",
    "n = np.arange(N)\n",
    "T = N/sr\n",
    "freq = n/T \n",
    "\n",
    "plt.figure(figsize = (6, 3))\n",
    "plt.subplot(121)\n",
    "plt.plot(t, ifft(X), 'r')\n",
    "plt.xlabel('Time (s)')\n",
    "plt.ylabel('Amplitude')\n",
    "\n",
    "plt.subplot(122)\n",
    "plt.stem(freq, np.abs(X), 'k', markerfmt=\"o\", basefmt=\"-k\")  # voir doc stem\n",
    "plt.xlabel('Freq (Hz)')\n",
    "plt.ylabel('FFT Amplitude |X(freq)|')\n",
    "plt.xlim(0,10)\n",
    "\n",
    "plt.tight_layout(pad=0.4, w_pad=0.5, h_pad=1.0)  # voir doc tight_layout\n",
    "\n",
    "plt.show()"
   ]
  },
  {
   "cell_type": "code",
   "execution_count": null,
   "metadata": {},
   "outputs": [],
   "source": []
  }
 ],
 "metadata": {
  "kernelspec": {
   "display_name": "Python 3 (ipykernel)",
   "language": "python",
   "name": "python3"
  },
  "language_info": {
   "codemirror_mode": {
    "name": "ipython",
    "version": 3
   },
   "file_extension": ".py",
   "mimetype": "text/x-python",
   "name": "python",
   "nbconvert_exporter": "python",
   "pygments_lexer": "ipython3",
   "version": "3.9.12"
  }
 },
 "nbformat": 4,
 "nbformat_minor": 4
}
